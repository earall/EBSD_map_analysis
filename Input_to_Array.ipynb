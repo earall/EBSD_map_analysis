{
 "metadata": {
  "name": "",
  "signature": "sha256:469e51cb6645badca3811897ff48124d7bc97900cc5525044aa780f44cd6f409"
 },
 "nbformat": 3,
 "nbformat_minor": 0,
 "worksheets": [
  {
   "cells": [
    {
     "cell_type": "code",
     "collapsed": false,
     "input": [
      "#datafile insert\n",
      "f = open ('AL001MeltsNR.ctf','r')"
     ],
     "language": "python",
     "metadata": {},
     "outputs": [],
     "prompt_number": 15
    },
    {
     "cell_type": "code",
     "collapsed": false,
     "input": [
      "for line in f:\n",
      "    if line[0:6] == 'Phases':\n",
      "        R=line.split()\n",
      "        print line[7]"
     ],
     "language": "python",
     "metadata": {},
     "outputs": [
      {
       "output_type": "stream",
       "stream": "stdout",
       "text": [
        "9\n"
       ]
      }
     ],
     "prompt_number": 16
    },
    {
     "cell_type": "code",
     "collapsed": false,
     "input": [
      "Ph_nums=float(R[1])\n",
      "Line_start=14+Ph_nums\n",
      "print Line_start"
     ],
     "language": "python",
     "metadata": {},
     "outputs": [
      {
       "output_type": "stream",
       "stream": "stdout",
       "text": [
        "23.0\n"
       ]
      }
     ],
     "prompt_number": 23
    },
    {
     "cell_type": "code",
     "collapsed": false,
     "input": [
      "f = open ('AL001MeltsNR.ctf','r')\n",
      "\n",
      "X=[]\n",
      "Y=[]\n",
      "Z=[]\n",
      "\n",
      "for i, line in enumerate(f):\n",
      "    # Read in files from line_start and beyone\n",
      "    if i >= Line_start:\n",
      "        Data=line.split()\n",
      "        Z.append(Data[0])\n",
      "        X.append(Data[1])\n",
      "        Y.append(Data[2])\n",
      "print Z[0:4]\n",
      "print X[0:4]\n",
      "print Y[0:4]"
     ],
     "language": "python",
     "metadata": {},
     "outputs": [
      {
       "output_type": "stream",
       "stream": "stdout",
       "text": [
        "['0', '0', '4', '4']\n",
        "['0.0000', '15.556', '31.111', '46.667']\n",
        "['0.0000', '0.0000', '0.0000', '0.0000']\n"
       ]
      }
     ],
     "prompt_number": 41
    },
    {
     "cell_type": "code",
     "collapsed": false,
     "input": [
      "# make one list of all three lists\n",
      "listoflists=[]\n",
      "listoflists.append((Z[0:5], X[0:5], Y[0:5]))\n",
      "\n",
      "print listoflists"
     ],
     "language": "python",
     "metadata": {},
     "outputs": [
      {
       "output_type": "stream",
       "stream": "stdout",
       "text": [
        "[(['0', '0', '4', '4', '4'], ['0.0000', '15.556', '31.111', '46.667', '62.223'], ['0.0000', '0.0000', '0.0000', '0.0000', '0.0000'])]\n"
       ]
      }
     ],
     "prompt_number": 45
    },
    {
     "cell_type": "code",
     "collapsed": false,
     "input": [
      "Length=len(listoflists)\n",
      "print Length"
     ],
     "language": "python",
     "metadata": {},
     "outputs": [
      {
       "output_type": "stream",
       "stream": "stdout",
       "text": [
        "1\n"
       ]
      }
     ],
     "prompt_number": 49
    },
    {
     "cell_type": "code",
     "collapsed": false,
     "input": [
      "import numpy as np\n",
      "np.column_stack((Z, X, Y))"
     ],
     "language": "python",
     "metadata": {},
     "outputs": [
      {
       "metadata": {},
       "output_type": "pyout",
       "prompt_number": 52,
       "text": [
        "array([['0', '0.0000', '0.0000'],\n",
        "       ['0', '15.556', '0.0000'],\n",
        "       ['4', '31.111', '0.0000'],\n",
        "       ..., \n",
        "       ['0', '15167.', '14965.'],\n",
        "       ['0', '15182.', '14965.'],\n",
        "       ['0', '15198.', '14965.']], \n",
        "      dtype='|S6')"
       ]
      }
     ],
     "prompt_number": 52
    },
    {
     "cell_type": "code",
     "collapsed": false,
     "input": [
      "#F.close()"
     ],
     "language": "python",
     "metadata": {},
     "outputs": [],
     "prompt_number": 53
    },
    {
     "cell_type": "code",
     "collapsed": false,
     "input": [],
     "language": "python",
     "metadata": {},
     "outputs": []
    }
   ],
   "metadata": {}
  }
 ]
}