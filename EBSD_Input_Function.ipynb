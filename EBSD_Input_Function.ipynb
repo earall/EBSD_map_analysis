{
 "metadata": {
  "name": "",
  "signature": "sha256:d453ab2fa7d0745dc2f168f136a941eb09043e7673aeb431800348e986e21709"
 },
 "nbformat": 3,
 "nbformat_minor": 0,
 "worksheets": [
  {
   "cells": [
    {
     "cell_type": "code",
     "collapsed": false,
     "input": [
      "import numpy as np\n",
      "\n",
      "# User define filename\n",
      "filename = 'AL001MeltsNR.ctf'\n"
     ],
     "language": "python",
     "metadata": {},
     "outputs": [],
     "prompt_number": 9
    },
    {
     "cell_type": "code",
     "collapsed": false,
     "input": [
      "# FUNCTION results_to_array converting data from headered file into an array\n",
      "def results_to_array(filename):\n",
      "\n",
      "## Read in file and find number of phases, this alters file \n",
      "    f = open (filename,'r')\n",
      "\n",
      "    for line in f:\n",
      "        if line[0:6] == 'Phases':\n",
      "            R=line.split()\n",
      "            print line[7]\n",
      "        \n",
      "    Ph_nums=float(R[1])\n",
      "    Line_start=14+Ph_nums\n",
      "    print Line_start\n",
      "\n",
      "    ## NEW SEC\n",
      "    f = open (filename,'r')\n",
      "    X=[]\n",
      "    Y=[]\n",
      "    Z=[]\n",
      "    for i, line in enumerate(f):\n",
      "        # Read in files from line_start and beyond\n",
      "        if i >= Line_start:\n",
      "            Data=line.split()\n",
      "            Z.append(Data[0])\n",
      "            X.append(Data[1])\n",
      "            Y.append(Data[2])\n",
      "    print Z[0:4]\n",
      "    print X[0:4]\n",
      "    print Y[0:4]\n",
      "\n",
      "    ## Create an Array combing Phase, x-, y-coords\n",
      "    ARRAY=np.column_stack((Z, X, Y))\n",
      "    print len(ARRAY)\n",
      "    return ARRAY\n",
      "\n"
     ],
     "language": "python",
     "metadata": {},
     "outputs": [],
     "prompt_number": 12
    },
    {
     "cell_type": "code",
     "collapsed": false,
     "input": [
      "filename = 'AL001MeltsNR.ctf'\n",
      "results_to_array(filename)"
     ],
     "language": "python",
     "metadata": {},
     "outputs": [
      {
       "output_type": "stream",
       "stream": "stdout",
       "text": [
        "9\n",
        "23.0"
       ]
      },
      {
       "output_type": "stream",
       "stream": "stdout",
       "text": [
        "\n",
        "['0', '0', '4', '4']"
       ]
      },
      {
       "output_type": "stream",
       "stream": "stdout",
       "text": [
        "\n",
        "['0.0000', '15.556', '31.111', '46.667']\n",
        "['0.0000', '0.0000', '0.0000', '0.0000']\n",
        "941814"
       ]
      },
      {
       "output_type": "stream",
       "stream": "stdout",
       "text": [
        "\n"
       ]
      },
      {
       "metadata": {},
       "output_type": "pyout",
       "prompt_number": 13,
       "text": [
        "array([['0', '0.0000', '0.0000'],\n",
        "       ['0', '15.556', '0.0000'],\n",
        "       ['4', '31.111', '0.0000'],\n",
        "       ..., \n",
        "       ['0', '15167.', '14965.'],\n",
        "       ['0', '15182.', '14965.'],\n",
        "       ['0', '15198.', '14965.']], \n",
        "      dtype='|S6')"
       ]
      }
     ],
     "prompt_number": 13
    },
    {
     "cell_type": "code",
     "collapsed": false,
     "input": [],
     "language": "python",
     "metadata": {},
     "outputs": [],
     "prompt_number": 13
    },
    {
     "cell_type": "code",
     "collapsed": false,
     "input": [],
     "language": "python",
     "metadata": {},
     "outputs": []
    }
   ],
   "metadata": {}
  }
 ]
}