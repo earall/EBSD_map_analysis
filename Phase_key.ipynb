{
 "metadata": {
  "name": "",
  "signature": "sha256:dc65148b5d4f5aead35de23fbe70c77c419189e5e1aa76873383531def80f49a"
 },
 "nbformat": 3,
 "nbformat_minor": 0,
 "worksheets": [
  {
   "cells": [
    {
     "cell_type": "code",
     "collapsed": false,
     "input": [
      "import numpy as np\n",
      "\n",
      "#user defines filename\n",
      "filename = 'AL001MeltsNR.ctf'\n"
     ],
     "language": "python",
     "metadata": {},
     "outputs": [],
     "prompt_number": 51
    },
    {
     "cell_type": "code",
     "collapsed": false,
     "input": [
      "def phase_key(filename):\n",
      "\n",
      "    f = open (filename,'r')\n",
      "\n",
      "#find number of phases\n",
      "    for line in f:\n",
      "        if line[0:6] == 'Phases':\n",
      "            R=line.split()\n",
      "        \n",
      "#selecting range where phase names are\n",
      "    Ph_nums=float(R[1])\n",
      "    Line_a=13\n",
      "    Line_b=Ph_nums+12\n",
      "\n",
      "#create list of phases\n",
      "    f = open ('AL001MeltsNR.ctf','r')\n",
      "    phase=[]\n",
      "    for i, line in enumerate(f):\n",
      "# Read in files from line_start and beyone\n",
      "        if i >= Line_a and i <= Line_b:\n",
      "            Data=line.split()\n",
      "            phase.append(Data[2])\n",
      "        \n",
      "#create number range for phase key\n",
      "    phase_num=range(1,len(phase)+1)\n",
      "\n",
      "#combine key\n",
      "    Key=np.column_stack((phase_num, phase))\n",
      "    print Key\n",
      "    return Key"
     ],
     "language": "python",
     "metadata": {},
     "outputs": [],
     "prompt_number": 53
    },
    {
     "cell_type": "code",
     "collapsed": false,
     "input": [
      "Key=phase_key(filename)"
     ],
     "language": "python",
     "metadata": {},
     "outputs": [
      {
       "output_type": "stream",
       "stream": "stdout",
       "text": [
        "[['1' 'Augite']\n",
        " ['2' 'An38']\n",
        " ['3' 'An67']\n",
        " ['4' 'K_Feldspar']\n",
        " ['5' 'Quartz-new']\n",
        " ['6' 'Titanite']\n",
        " ['7' 'An85']\n",
        " ['8' 'Scapolite']\n",
        " ['9' 'Clinozoisite']]\n"
       ]
      }
     ],
     "prompt_number": 54
    },
    {
     "cell_type": "code",
     "collapsed": false,
     "input": [
      "#ext.py"
     ],
     "language": "python",
     "metadata": {},
     "outputs": []
    }
   ],
   "metadata": {}
  }
 ]
}