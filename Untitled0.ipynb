{
 "metadata": {
  "name": "",
  "signature": "sha256:e3cccbb64b4f9f70faabc61732c3e197549f4ff61d0783000cc61987550ec72b"
 },
 "nbformat": 3,
 "nbformat_minor": 0,
 "worksheets": [
  {
   "cells": [
    {
     "cell_type": "code",
     "collapsed": false,
     "input": [
      "#datafile insert\n",
      "f = open ('AL001MeltsNR.ctf','r')"
     ],
     "language": "python",
     "metadata": {},
     "outputs": [],
     "prompt_number": 15
    },
    {
     "cell_type": "code",
     "collapsed": false,
     "input": [
      "for line in f:\n",
      "    if line[0:6] == 'Phases':\n",
      "        R=line.split()\n",
      "        print line[7]"
     ],
     "language": "python",
     "metadata": {},
     "outputs": [
      {
       "output_type": "stream",
       "stream": "stdout",
       "text": [
        "9\n"
       ]
      }
     ],
     "prompt_number": 16
    },
    {
     "cell_type": "code",
     "collapsed": false,
     "input": [
      "Ph_nums=float(R[1])\n",
      "Line_start=14+Ph_nums\n",
      "print Line_start"
     ],
     "language": "python",
     "metadata": {},
     "outputs": [
      {
       "output_type": "stream",
       "stream": "stdout",
       "text": [
        "23.0\n"
       ]
      }
     ],
     "prompt_number": 23
    },
    {
     "cell_type": "code",
     "collapsed": false,
     "input": [
      "f = open ('AL001MeltsNR.ctf','r')\n",
      "\n",
      "X=[]\n",
      "Y=[]\n",
      "Z=[]\n",
      "\n",
      "for i, line in enumerate(f):\n",
      "    # Read in files from line_start and beyone\n",
      "    if i >= Line_start:\n",
      "        Data=line.split()\n",
      "        Z.append(Data[0])\n",
      "        X.append(Data[1])\n",
      "        Y.append(Data[2])\n",
      "print Z[0:4]\n",
      "print X[0:4]\n",
      "print Y[0:4]"
     ],
     "language": "python",
     "metadata": {},
     "outputs": [
      {
       "output_type": "stream",
       "stream": "stdout",
       "text": [
        "['0', '0', '4', '4']\n",
        "['0.0000', '15.556', '31.111', '46.667']\n",
        "['0.0000', '0.0000', '0.0000', '0.0000']\n"
       ]
      }
     ],
     "prompt_number": 41
    },
    {
     "cell_type": "code",
     "collapsed": false,
     "input": [
      "# make one list of all three lists\n",
      "listoflists=[]\n",
      "listoflists.append((Z[0:5], X[0:5], Y[0:5]))\n",
      "\n",
      "print listoflists"
     ],
     "language": "python",
     "metadata": {},
     "outputs": [
      {
       "output_type": "stream",
       "stream": "stdout",
       "text": [
        "[(['0', '0', '4', '4', '4'], ['0.0000', '15.556', '31.111', '46.667', '62.223'], ['0.0000', '0.0000', '0.0000', '0.0000', '0.0000'])]\n"
       ]
      }
     ],
     "prompt_number": 45
    },
    {
     "cell_type": "code",
     "collapsed": false,
     "input": [
      "Length=len(listoflists)\n",
      "print Length"
     ],
     "language": "python",
     "metadata": {},
     "outputs": [
      {
       "output_type": "stream",
       "stream": "stdout",
       "text": [
        "1\n"
       ]
      }
     ],
     "prompt_number": 49
    },
    {
     "cell_type": "code",
     "collapsed": false,
     "input": [
      "\n",
      "np.column_stack((portfolio, index))"
     ],
     "language": "python",
     "metadata": {},
     "outputs": [
      {
       "ename": "NameError",
       "evalue": "name 'array' is not defined",
       "output_type": "pyerr",
       "traceback": [
        "\u001b[1;31m---------------------------------------------------------------------------\u001b[0m\n\u001b[1;31mNameError\u001b[0m                                 Traceback (most recent call last)",
        "\u001b[1;32m<ipython-input-50-b3320fb61e55>\u001b[0m in \u001b[0;36m<module>\u001b[1;34m()\u001b[0m\n\u001b[1;32m----> 1\u001b[1;33m \u001b[0marray\u001b[0m\u001b[1;33m[\u001b[0m\u001b[0mZ\u001b[0m\u001b[1;33m,\u001b[0m\u001b[0mX\u001b[0m\u001b[1;33m,\u001b[0m\u001b[0mY\u001b[0m\u001b[1;33m]\u001b[0m\u001b[1;33m\u001b[0m\u001b[0m\n\u001b[0m",
        "\u001b[1;31mNameError\u001b[0m: name 'array' is not defined"
       ]
      }
     ],
     "prompt_number": 50
    },
    {
     "cell_type": "code",
     "collapsed": false,
     "input": [
      "#F.close()"
     ],
     "language": "python",
     "metadata": {},
     "outputs": [],
     "prompt_number": 11
    },
    {
     "cell_type": "code",
     "collapsed": false,
     "input": [],
     "language": "python",
     "metadata": {},
     "outputs": []
    }
   ],
   "metadata": {}
  }
 ]
}